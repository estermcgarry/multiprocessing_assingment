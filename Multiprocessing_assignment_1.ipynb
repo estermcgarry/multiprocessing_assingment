{
 "cells": [
  {
   "cell_type": "markdown",
   "metadata": {},
   "source": [
    "Notebook prepared by:\n",
    "<br>\n",
    "Ednalva Oliveira - student number 19732291\n",
    "<br>\n",
    "Ester Nunes McGarry - student number 19205519"
   ]
  },
  {
   "cell_type": "markdown",
   "metadata": {},
   "source": [
    "# Multiprocessing using pools - PART 1\n",
    "A simple framework for assessing the impact of multiprocessing on runtime on a multi-core machine. "
   ]
  },
  {
   "cell_type": "code",
   "execution_count": 1,
   "metadata": {},
   "outputs": [],
   "source": [
    "#Import all libraries\n",
    "import time\n",
    "import math\n",
    "import multiprocessing\n",
    "from multiprocessing import Pool\n",
    "import matplotlib.pyplot as plt\n",
    "import matplotlib.pyplot as plt; plt.rcdefaults()\n",
    "import numpy as np\n",
    "import pandas as pd\n",
    "import multiprocessing as mp\n",
    "from time import perf_counter\n",
    "\n",
    "# A function for timing a job that uses a pool of processes.\n",
    "#  f is a function that takes a single argument\n",
    "#  data is an array of arguments on which f will be mapped\n",
    "#  pool_size is the number of processes in the pool. \n",
    "def pool_process(f, data, pool_size):\n",
    "    tp1 = time.time()\n",
    "    pool = Pool(processes=pool_size) # initialize the Pool.\n",
    "    result = pool.map(f, data)       # map f to the data using the Pool of processes to do the work \n",
    "    pool.close() # No more processes\n",
    "    pool.join()  # Wait for the pool processing to complete.\n",
    "    \n",
    "    print(\"Results\", result)\n",
    "    overall_time = time.time()-tp1\n",
    "    print(overall_time)\n",
    "    return overall_time\n",
    "    \n",
    " "
   ]
  },
  {
   "cell_type": "markdown",
   "metadata": {},
   "source": [
    "## check_prime and check_prime_multi functions run in pool_process"
   ]
  },
  {
   "cell_type": "code",
   "execution_count": null,
   "metadata": {},
   "outputs": [],
   "source": [
    "def check_prime(num):\n",
    "    t1 = time.time()\n",
    "    res = False\n",
    "    if num > 0:\n",
    "        # check for factors\n",
    "        for i in range(2,num):\n",
    "            if (num % i) == 0:\n",
    "                print(num,\"is not a prime number\")\n",
    "                print(i,\"times\",num//i,\"is\",num)\n",
    "                print(\"Time:\", int(time.time()-t1))\n",
    "                break\n",
    "        else:\n",
    "            print(num,\"is a prime number\")\n",
    "            print(\"Time:\", time.time()-t1)\n",
    "            res = True\n",
    "            # if input number is less than\n",
    "            # or equal to 1, it is not prime\n",
    "    return res"
   ]
  },
  {
   "cell_type": "code",
   "execution_count": null,
   "metadata": {},
   "outputs": [],
   "source": [
    "def check_prime_multi(my_dict):\n",
    "    num = my_dict[\"number\"]\n",
    "    lower = my_dict[\"lower\"]\n",
    "    upper = my_dict[\"upper\"]\n",
    "\n",
    "\n",
    "    t1 = time.time()\n",
    "    res = False\n",
    "    if num > 0:\n",
    "        # check for factors\n",
    "        for i in range(lower, upper):\n",
    "            if (num % i) == 0:\n",
    "                print(num,\"is not a prime number\")\n",
    "                print(i,\"times\",num//i,\"is\",num)\n",
    "                print(\"Time:\", int(time.time()-t1))\n",
    "                break\n",
    "        else:\n",
    "            print(num,\"prime number not confirmed\")\n",
    "            print(\"Time:\", time.time()-t1)\n",
    "            res = True\n",
    "            # if input number is less than\n",
    "            # or equal to 1, it is not prime\n",
    "    print(\"Task\", multiprocessing.current_process(), num, res)\n",
    "    return res"
   ]
  },
  {
   "cell_type": "markdown",
   "metadata": {},
   "source": [
    "# Check number of cores "
   ]
  },
  {
   "cell_type": "code",
   "execution_count": 2,
   "metadata": {},
   "outputs": [
    {
     "name": "stdout",
     "output_type": "stream",
     "text": [
      "Number of cpu cores:12\n"
     ]
    }
   ],
   "source": [
    "nprocs = mp.cpu_count()\n",
    "print(f\"Number of cpu cores:{nprocs}\")"
   ]
  },
  {
   "cell_type": "code",
   "execution_count": null,
   "metadata": {},
   "outputs": [],
   "source": []
  },
  {
   "cell_type": "markdown",
   "metadata": {},
   "source": [
    "# Set different group numbers"
   ]
  },
  {
   "cell_type": "code",
   "execution_count": 3,
   "metadata": {},
   "outputs": [],
   "source": [
    "#Lists of prime numbers to be the data on pool_process function\n",
    "#grouped by 10, 17 and 34 numbers with 8 digits\n",
    "ten_numbers = [10009381, 10028899, 13057507, 12057583, 50057569, 67059353, 78097681, 87007621, 98754559, 34984513]\n",
    "seventeen_numbers = [10009381, 10028899, 13057507, 12057583, 50057569, 67059353, 78097681, 87007621, 98754559, 34984513, 23457307, 33457687, 36457919, 48459403, 53457511, 64457803, 28459757]\n",
    "thirty_four_numbers = [10009381, 10028899, 13057507, 12057583, 50057569, 67059353, 78097681, 87007621, 98754559, 34984513, 23457307, 33457687, 36457919, 48459403, 53457511, 64457803, 72456653, 89457113, 93457813, 12457919, 36459481, 94828337, 83628119, 27599189, 84727277, 98473643, 50473903, 45376687, 75457621, 76542439, 98241817, 88881211, 64393853, 99889901]\n"
   ]
  },
  {
   "cell_type": "markdown",
   "metadata": {},
   "source": [
    "# Calling the pool_process function"
   ]
  },
  {
   "cell_type": "code",
   "execution_count": 4,
   "metadata": {},
   "outputs": [
    {
     "name": "stdout",
     "output_type": "stream",
     "text": [
      "10009381 is a prime number\n",
      "Time: 0.6252269744873047\n",
      "10028899 is a prime number\n",
      "Time: 0.5892970561981201\n",
      "13057507 is a prime number\n",
      "Time: 0.7812469005584717\n",
      "12057583 is a prime number\n",
      "Time: 0.7385542392730713\n",
      "50057569 is a prime number\n",
      "Time: 2.9772119522094727\n",
      "67059353 is a prime number\n",
      "Time: 3.9180290699005127\n",
      "78097681 is a prime number\n",
      "Time: 4.4892048835754395\n",
      "87007621 is a prime number\n",
      "Time: 4.895186901092529\n",
      "98754559 is a prime number\n",
      "Time: 5.5611701011657715\n",
      "34984513 is a prime number\n",
      "Time: 2.0020039081573486\n",
      "Results [True, True, True, True, True, True, True, True, True, True]\n",
      "26.67635703086853\n",
      "10009381 is a prime number\n",
      "Time: 0.5702152252197266\n",
      "10028899 is a prime number\n",
      "Time: 0.5654149055480957\n",
      "13057507 is a prime number\n",
      "Time: 0.7525482177734375\n",
      "12057583 is a prime number\n",
      "Time: 0.6890461444854736\n",
      "50057569 is a prime number\n",
      "Time: 2.8106250762939453\n",
      "67059353 is a prime number\n",
      "Time: 3.7159762382507324\n",
      "78097681 is a prime number\n",
      "Time: 4.426739931106567\n",
      "87007621 is a prime number\n",
      "Time: 4.818691253662109\n",
      "98754559 is a prime number\n",
      "Time: 5.569952964782715\n",
      "34984513 is a prime number\n",
      "Time: 1.977865219116211\n",
      "23457307 is a prime number\n",
      "Time: 1.3100831508636475\n",
      "33457687 is a prime number\n",
      "Time: 1.8930532932281494\n",
      "36457919 is a prime number\n",
      "Time: 2.0409538745880127\n",
      "48459403 is a prime number\n",
      "Time: 2.752134084701538\n",
      "53457511 is a prime number\n",
      "Time: 3.0239949226379395\n",
      "64457803 is a prime number\n",
      "Time: 3.757650136947632\n",
      "28459757 is a prime number\n",
      "Time: 1.6681840419769287\n",
      "Results [True, True, True, True, True, True, True, True, True, True, True, True, True, True, True, True, True]\n",
      "42.4422128200531\n",
      "10009381 is a prime number\n",
      "Time: 0.5781009197235107\n",
      "10028899 is a prime number\n",
      "Time: 0.562161922454834\n",
      "13057507 is a prime number\n",
      "Time: 0.7311921119689941\n",
      "12057583 is a prime number\n",
      "Time: 0.6843512058258057\n",
      "50057569 is a prime number\n",
      "Time: 2.7951090335845947\n",
      "67059353 is a prime number\n",
      "Time: 3.735748052597046\n",
      "78097681 is a prime number\n",
      "Time: 4.526736736297607\n",
      "87007621 is a prime number\n",
      "Time: 5.0483198165893555\n",
      "98754559 is a prime number\n",
      "Time: 5.577308893203735\n",
      "34984513 is a prime number\n",
      "Time: 1.9825143814086914\n",
      "23457307 is a prime number\n",
      "Time: 1.3152220249176025\n",
      "33457687 is a prime number\n",
      "Time: 1.8594028949737549\n",
      "36457919 is a prime number\n",
      "Time: 2.0587499141693115\n",
      "48459403 is a prime number\n",
      "Time: 2.6867198944091797\n",
      "53457511 is a prime number\n",
      "Time: 2.963960886001587\n",
      "64457803 is a prime number\n",
      "Time: 3.6813440322875977\n",
      "72456653 is not a prime number\n",
      "181 times 400313 is 72456653\n",
      "Time: 0\n",
      "89457113 is a prime number\n",
      "Time: 4.944905996322632\n",
      "93457813 is a prime number\n",
      "Time: 5.349974870681763\n",
      "12457919 is a prime number\n",
      "Time: 0.7018611431121826\n",
      "36459481 is a prime number\n",
      "Time: 2.0380818843841553\n",
      "94828337 is a prime number\n",
      "Time: 5.334123134613037\n",
      "83628119 is a prime number\n",
      "Time: 4.6408913135528564\n",
      "27599189 is a prime number\n",
      "Time: 1.5359728336334229\n",
      "84727277 is a prime number\n",
      "Time: 4.8398118019104\n",
      "98473643 is a prime number\n",
      "Time: 5.496784210205078\n",
      "50473903 is a prime number\n",
      "Time: 2.7979788780212402\n",
      "45376687 is a prime number\n",
      "Time: 2.541227102279663\n",
      "75457621 is a prime number\n",
      "Time: 4.200331926345825\n",
      "76542439 is a prime number\n",
      "Time: 4.24481201171875\n",
      "98241817 is a prime number\n",
      "Time: 5.428867816925049\n",
      "88881211 is a prime number\n",
      "Time: 4.906930208206177\n",
      "64393853 is a prime number\n",
      "Time: 3.5562171936035156\n",
      "99889901 is a prime number\n",
      "Time: 5.629937171936035\n",
      "Results [True, True, True, True, True, True, True, True, True, True, True, True, True, True, True, True, False, True, True, True, True, True, True, True, True, True, True, True, True, True, True, True, True, True]\n",
      "109.10825705528259\n",
      "10009381 is a prime number\n",
      "Time: 0.6200320720672607\n",
      "10028899 is a prime number\n",
      "Time: 0.6249749660491943\n",
      "12057583 is a prime number\n",
      "Time: 0.7458837032318115\n",
      "13057507 is a prime number\n",
      "Time: 0.8037261962890625\n",
      "50057569 is a prime number\n",
      "Time: 3.0630037784576416\n",
      "67059353 is a prime number\n",
      "Time: 4.090338945388794\n",
      "78097681 is a prime number\n",
      "Time: 4.798145055770874\n",
      "87007621 is a prime number\n",
      "Time: 5.321819067001343\n",
      "34984513 is a prime number\n",
      "Time: 2.1177589893341064\n",
      "98754559 is a prime number\n",
      "Time: 5.860865116119385\n",
      "Results [True, True, True, True, True, True, True, True, True, True]\n",
      "9.60994577407837\n",
      "10009381 is a prime number\n",
      "Time: 0.6254289150238037\n",
      "13057507 is a prime number\n",
      "Time: 0.8259069919586182\n",
      "10028899 is a prime number\n",
      "Time: 0.6267359256744385\n",
      "12057583 is a prime number\n",
      "Time: 0.7708020210266113\n",
      "23457307 is a prime number\n",
      "Time: 1.4568641185760498\n",
      "50057569 is a prime number\n",
      "Time: 3.1340532302856445\n",
      "78097681 is a prime number\n",
      "Time: 4.869971990585327\n",
      "33457687 is a prime number\n",
      "Time: 2.1185500621795654\n",
      "67059353 is a prime number\n",
      "Time: 4.216179847717285\n",
      "36457919 is a prime number\n",
      "Time: 2.3177900314331055\n",
      "98754559 is a prime number\n",
      "Time: 6.336544036865234\n",
      "34984513 is a prime number\n",
      "Time: 2.252779006958008\n",
      "87007621 is a prime number\n",
      "Time: 5.55595588684082\n",
      "48459403 is a prime number\n",
      "Time: 3.1281111240386963\n",
      "53457511 is a prime number\n",
      "Time: 3.46256685256958\n",
      "28459757 is a prime number\n",
      "Time: 1.7922861576080322\n",
      "64457803 is a prime number\n",
      "Time: 3.6997971534729004\n",
      "Results [True, True, True, True, True, True, True, True, True, True, True, True, True, True, True, True, True]\n",
      "14.619797945022583\n",
      "10009381 is a prime number\n",
      "Time: 0.628314733505249\n",
      "12057583 is a prime number\n",
      "Time: 0.7376518249511719\n",
      "10028899 is a prime number\n",
      "Time: 0.6501481533050537\n",
      "13057507 is a prime number\n",
      "Time: 0.8438801765441895\n",
      "34984513 is a prime number\n",
      "Time: 2.193366050720215\n",
      "23457307 is a prime number\n",
      "Time: 1.459632158279419\n",
      "50057569 is a prime number\n",
      "Time: 3.1547529697418213\n",
      "36457919 is a prime number\n",
      "Time: 2.3416249752044678\n",
      "78097681 is a prime number\n",
      "Time: 4.883368968963623\n",
      "33457687 is a prime number\n",
      "Time: 2.1077170372009277\n",
      "48459403 is a prime number\n",
      "Time: 3.1432430744171143\n",
      "67059353 is a prime number\n",
      "Time: 4.347376823425293\n",
      "64457803 is a prime number\n",
      "Time: 4.179133892059326\n",
      "72456653 is not a prime number\n",
      "181 times 400313 is 72456653\n",
      "Time: 0\n",
      "87007621 is a prime number\n",
      "Time: 5.616055011749268\n",
      "53457511 is a prime number\n",
      "Time: 3.5993998050689697\n",
      "93457813 is a prime number\n",
      "Time: 6.20318603515625\n",
      "12457919 is a prime number\n",
      "Time: 0.8465750217437744\n",
      "89457113 is a prime number\n",
      "Time: 5.9557859897613525\n",
      "98754559 is a prime number\n",
      "Time: 6.5768609046936035\n",
      "94828337 is a prime number\n",
      "Time: 6.508195161819458\n",
      "36459481 is a prime number\n",
      "Time: 2.502393960952759\n",
      "45376687 is a prime number\n",
      "Time: 3.018048048019409\n",
      "84727277 is a prime number\n",
      "Time: 5.62176513671875\n",
      "83628119 is a prime number\n",
      "Time: 5.644391775131226\n",
      "98241817 is a prime number\n",
      "Time: 6.49989914894104\n",
      "75457621 is a prime number\n",
      "Time: 4.982928037643433\n",
      "27599189 is a prime number\n",
      "Time: 1.875241994857788\n",
      "98473643 is a prime number\n",
      "Time: 6.510803937911987\n",
      "76542439 is a prime number\n",
      "Time: 5.026258230209351\n",
      "88881211 is a prime number\n",
      "Time: 5.86222505569458\n",
      "50473903 is a prime number\n",
      "Time: 3.2417500019073486\n",
      "99889901 is a prime number\n",
      "Time: 6.611459970474243\n",
      "64393853 is a prime number\n",
      "Time: 3.840183734893799\n",
      "Results [True, True, True, True, True, True, True, True, True, True, True, True, True, True, True, True, False, True, True, True, True, True, True, True, True, True, True, True, True, True, True, True, True, True]\n",
      "34.06287097930908\n",
      "10028899 is a prime number\n",
      "Time: 1.1653409004211426\n",
      "10009381 is a prime number\n",
      "Time: 1.240123987197876\n",
      "12057583 is a prime number\n",
      "Time: 1.37260103225708\n",
      "13057507 is a prime number\n",
      "Time: 1.5207910537719727\n",
      "34984513 is a prime number\n",
      "Time: 2.8743371963500977\n",
      "50057569 is a prime number\n",
      "Time: 4.401042938232422\n",
      "67059353 is a prime number\n",
      "Time: 5.594013929367065\n",
      "78097681 is a prime number\n",
      "Time: 6.385607957839966\n",
      "87007621 is a prime number\n",
      "Time: 6.943531036376953\n",
      "98754559 is a prime number\n",
      "Time: 7.610426902770996\n",
      "Results [True, True, True, True, True, True, True, True, True, True]\n",
      "7.667857885360718\n",
      "10028899 is a prime number\n",
      "Time: 1.21360182762146\n",
      "10009381 is a prime number\n",
      "Time: 1.2866911888122559\n",
      "12057583 is a prime number\n",
      "Time: 1.4783289432525635\n",
      "13057507 is a prime number\n",
      "Time: 1.6400539875030518\n",
      "23457307 is a prime number\n",
      "Time: 3.113218069076538\n",
      "34984513 is a prime number\n",
      "Time: 4.642995357513428\n",
      "33457687 is a prime number\n",
      "Time: 4.437741994857788\n",
      "50057569 is a prime number\n"
     ]
    },
    {
     "name": "stdout",
     "output_type": "stream",
     "text": [
      "Time: 6.382839918136597\n",
      "36457919 is a prime number\n",
      "Time: 4.778599977493286\n",
      "67059353 is a prime number\n",
      "Time: 8.438674926757812\n",
      "28459757 is a prime number\n",
      "Time: 3.1211280822753906\n",
      "78097681 is a prime number\n",
      "Time: 9.550283908843994\n",
      "48459403 is a prime number\n",
      "Time: 5.570821762084961\n",
      "87007621 is a prime number\n",
      "Time: 10.243466138839722\n",
      "98754559 is a prime number\n",
      "Time: 11.037297010421753\n",
      "53457511 is a prime number\n",
      "Time: 5.24172306060791\n",
      "64457803 is a prime number\n",
      "Time: 5.889836072921753\n",
      "Results [True, True, True, True, True, True, True, True, True, True, True, True, True, True, True, True, True]\n",
      "11.85532808303833\n",
      "10028899 is a prime number\n",
      "Time: 1.1895701885223389\n",
      "10009381 is a prime number\n",
      "Time: 1.2157020568847656\n",
      "12057583 is a prime number\n",
      "Time: 1.4374327659606934\n",
      "13057507 is a prime number\n",
      "Time: 1.5654857158660889\n",
      "23457307 is a prime number\n",
      "Time: 2.9395968914031982\n",
      "34984513 is a prime number\n",
      "Time: 4.544214963912964\n",
      "33457687 is a prime number\n",
      "Time: 4.346642971038818\n",
      "36457919 is a prime number\n",
      "Time: 4.756248950958252\n",
      "72456653 is not a prime number\n",
      "181 times 400313 is 72456653\n",
      "Time: 0\n",
      "50057569 is a prime number\n",
      "Time: 6.378131866455078\n",
      "67059353 is a prime number\n",
      "Time: 8.667837142944336\n",
      "78097681 is a prime number\n",
      "Time: 10.107127904891968\n",
      "12457919 is a prime number\n",
      "Time: 1.640058994293213\n",
      "48459403 is a prime number\n",
      "Time: 6.493326187133789\n",
      "87007621 is a prime number\n",
      "Time: 11.26155400276184\n",
      "53457511 is a prime number\n",
      "Time: 7.113986968994141\n",
      "98754559 is a prime number\n",
      "Time: 12.873531103134155\n",
      "64457803 is a prime number\n",
      "Time: 8.488352060317993\n",
      "27599189 is a prime number\n",
      "Time: 3.6384098529815674\n",
      "36459481 is a prime number\n",
      "Time: 4.82241678237915\n",
      "89457113 is a prime number\n",
      "Time: 11.605385065078735\n",
      "93457813 is a prime number\n",
      "Time: 12.345081806182861\n",
      "50473903 is a prime number\n",
      "Time: 6.517126083374023\n",
      "45376687 is a prime number\n",
      "Time: 5.913815975189209\n",
      "83628119 is a prime number\n",
      "Time: 11.05095887184143\n",
      "94828337 is a prime number\n",
      "Time: 12.500193119049072\n",
      "84727277 is a prime number\n",
      "Time: 10.950237274169922\n",
      "75457621 is a prime number\n",
      "Time: 9.640750169754028\n",
      "98473643 is a prime number\n",
      "Time: 12.220256090164185\n",
      "76542439 is a prime number\n",
      "Time: 8.329451084136963\n",
      "64393853 is a prime number\n",
      "Time: 6.234736919403076\n",
      "98241817 is a prime number\n",
      "Time: 9.484295845031738\n",
      "88881211 is a prime number\n",
      "Time: 7.781591176986694\n",
      "99889901 is a prime number\n",
      "Time: 7.932275056838989\n",
      "Results [True, True, True, True, True, True, True, True, True, True, True, True, True, True, True, True, False, True, True, True, True, True, True, True, True, True, True, True, True, True, True, True, True, True]\n",
      "29.751811027526855\n",
      "10028899 is a prime number\n",
      "Time: 1.3420190811157227\n",
      "10009381 is a prime number\n",
      "Time: 1.3618929386138916\n",
      "12057583 is a prime number\n",
      "Time: 1.5859770774841309\n",
      "13057507 is a prime number\n",
      "Time: 1.639111042022705\n",
      "34984513 is a prime number\n",
      "Time: 3.3960540294647217\n",
      "50057569 is a prime number\n",
      "Time: 4.506838083267212\n",
      "67059353 is a prime number\n",
      "Time: 5.659043788909912\n",
      "78097681 is a prime number\n",
      "Time: 6.4409379959106445\n",
      "87007621 is a prime number\n",
      "Time: 7.012670040130615\n",
      "98754559 is a prime number\n",
      "Time: 7.678116083145142\n",
      "Results [True, True, True, True, True, True, True, True, True, True]\n",
      "7.735497951507568\n",
      "10009381 is a prime number\n",
      "Time: 1.8778581619262695\n",
      "10028899 is a prime number\n",
      "Time: 1.9186291694641113\n",
      "12057583 is a prime number\n",
      "Time: 2.2257297039031982\n",
      "13057507 is a prime number\n",
      "Time: 2.4452590942382812\n",
      "23457307 is a prime number\n",
      "Time: 4.519763231277466\n",
      "33457687 is a prime number\n",
      "Time: 6.308333158493042\n",
      "34984513 is a prime number\n",
      "Time: 6.604313850402832\n",
      "36457919 is a prime number\n",
      "Time: 6.829770803451538\n",
      "28459757 is a prime number\n",
      "Time: 5.031260013580322\n",
      "50057569 is a prime number\n",
      "Time: 8.499023199081421\n",
      "48459403 is a prime number\n",
      "Time: 7.453671932220459\n",
      "53457511 is a prime number\n",
      "Time: 7.847758769989014\n",
      "67059353 is a prime number\n",
      "Time: 10.125065088272095\n",
      "64457803 is a prime number\n",
      "Time: 8.546363353729248\n",
      "78097681 is a prime number\n",
      "Time: 10.826376914978027\n",
      "87007621 is a prime number\n",
      "Time: 11.484598159790039\n",
      "98754559 is a prime number\n",
      "Time: 12.206214904785156\n",
      "Results [True, True, True, True, True, True, True, True, True, True, True, True, True, True, True, True, True]\n",
      "12.305257081985474\n",
      "10009381 is a prime number\n",
      "Time: 1.8261618614196777\n",
      "10028899 is a prime number\n",
      "Time: 1.8583109378814697\n",
      "12057583 is a prime number\n",
      "Time: 2.2005040645599365\n",
      "13057507 is a prime number\n",
      "Time: 2.4034547805786133\n",
      "72456653 is not a prime number\n",
      "181 times 400313 is 72456653\n",
      "Time: 0\n",
      "23457307 is a prime number\n",
      "Time: 4.387052059173584\n",
      "33457687 is a prime number\n",
      "Time: 6.343505859375\n",
      "34984513 is a prime number\n",
      "Time: 6.61001181602478\n",
      "36457919 is a prime number\n",
      "Time: 6.915597915649414\n",
      "12457919 is a prime number\n",
      "Time: 2.4880082607269287\n",
      "50057569 is a prime number\n",
      "Time: 9.620697021484375\n",
      "48459403 is a prime number\n",
      "Time: 9.479429006576538\n",
      "53457511 is a prime number\n",
      "Time: 10.50413703918457\n",
      "67059353 is a prime number\n",
      "Time: 13.035600662231445\n",
      "36459481 is a prime number\n",
      "Time: 7.3071441650390625\n",
      "64457803 is a prime number\n",
      "Time: 12.714308977127075\n",
      "27599189 is a prime number\n",
      "Time: 5.566717863082886\n",
      "78097681 is a prime number\n",
      "Time: 15.302047967910767\n",
      "87007621 is a prime number\n",
      "Time: 16.98815894126892\n",
      "98754559 is a prime number\n",
      "Time: 19.478849172592163\n",
      "89457113 is a prime number\n",
      "Time: 17.40498375892639\n",
      "45376687 is a prime number\n",
      "Time: 9.075464010238647\n",
      "93457813 is a prime number\n",
      "Time: 18.684629917144775\n",
      "50473903 is a prime number\n",
      "Time: 10.07097601890564\n",
      "83628119 is a prime number\n",
      "Time: 16.04744815826416\n",
      "94828337 is a prime number\n",
      "Time: 18.186904907226562\n",
      "84727277 is a prime number\n",
      "Time: 15.132560014724731\n",
      "75457621 is a prime number\n",
      "Time: 12.46642780303955\n",
      "76542439 is a prime number\n",
      "Time: 12.456094026565552\n",
      "98473643 is a prime number\n",
      "Time: 15.820029020309448\n",
      "64393853 is a prime number\n",
      "Time: 8.824784755706787\n",
      "88881211 is a prime number\n",
      "Time: 12.106127977371216\n",
      "98241817 is a prime number\n",
      "Time: 13.900984048843384\n",
      "99889901 is a prime number\n",
      "Time: 10.77226209640503\n",
      "Results [True, True, True, True, True, True, True, True, True, True, True, True, True, True, True, True, False, True, True, True, True, True, True, True, True, True, True, True, True, True, True, True, True, True]\n",
      "30.660012006759644\n"
     ]
    }
   ],
   "source": [
    "#Set the number of processors to run the function\n",
    "list_of_proc = [1,4,9,13]\n",
    "\n",
    "#Create empty lists to store the running time that each processor takes to compute each group of prime numbers\n",
    "time_ten_numbers = []\n",
    "time_seventeen_numbers = []\n",
    "time_thirty_four_numbers = []\n",
    "\n",
    "#Run the pool_process function for each group of prime numbers according to the number of cores \n",
    "for proc in list_of_proc:\n",
    "    time_ten = pool_process(check_prime, ten_numbers, proc)\n",
    "    time_seventeen = pool_process(check_prime, seventeen_numbers, proc)\n",
    "    time_thirty_four = pool_process(check_prime, thirty_four_numbers, proc)\n",
    "\n",
    "    #append the overall running time to the lists\n",
    "    time_ten_numbers.append(time_ten)\n",
    "    time_seventeen_numbers.append(time_seventeen)\n",
    "    time_thirty_four_numbers.append(time_thirty_four)"
   ]
  },
  {
   "cell_type": "markdown",
   "metadata": {},
   "source": [
    "# Store running time into a dictionary\n"
   ]
  },
  {
   "cell_type": "code",
   "execution_count": 11,
   "metadata": {},
   "outputs": [],
   "source": [
    "#Variables with dictionary keys and values\n",
    "list_of_numbers_name = ['10 numbers', '17 numbers', '34 numbers']\n",
    "list_of_all_numbers = time_ten_numbers, time_seventeen_numbers, time_thirty_four_numbers"
   ]
  },
  {
   "cell_type": "code",
   "execution_count": 12,
   "metadata": {},
   "outputs": [],
   "source": [
    "#Create an empty dictionary to store list of numbers with appropriate key value\n",
    "numbers_dictionary = {}\n",
    "\n",
    "#Append the running time to its respective group of numbers in order to plot in the graph\n",
    "for i in range(len(list_of_numbers_name)):\n",
    "    for list_of_numbers in list_of_all_numbers:\n",
    "        numbers_dictionary[\"{0}\".format(list_of_numbers_name[i])]=list_of_all_numbers[i]"
   ]
  },
  {
   "cell_type": "markdown",
   "metadata": {},
   "source": [
    "# Label data"
   ]
  },
  {
   "cell_type": "code",
   "execution_count": 13,
   "metadata": {},
   "outputs": [],
   "source": [
    "#Create an empty list to store \n",
    "list_of_processors = []\n",
    "\n",
    "#Add string 'Proc' to each processor to label the graph better\n",
    "for processor in list_of_proc:\n",
    "    processor_number = str(processor) + \" Proc\"\n",
    "    list_of_processors.append(processor_number)"
   ]
  },
  {
   "cell_type": "markdown",
   "metadata": {},
   "source": [
    "# Calculate Speedup"
   ]
  },
  {
   "cell_type": "code",
   "execution_count": 14,
   "metadata": {},
   "outputs": [
    {
     "name": "stdout",
     "output_type": "stream",
     "text": [
      "1 Proc [ 26.67635703  42.44221282 109.10825706]\n",
      "4 Proc [ 9.60994577 14.61979795 34.06287098]\n",
      "9 Proc [ 7.66785789 11.85532808 29.75181103]\n",
      "13 Proc [ 7.73549795 12.30525708 30.66001201]\n",
      "speedup [3.057451236804196, 3.6169830090692883, 3.5152688472090614]\n",
      "10 numbers [26.67635703086853, 9.60994577407837, 7.667857885360718, 7.735497951507568]\n",
      "17 numbers [42.4422128200531, 14.619797945022583, 11.85532808303833, 12.305257081985474]\n",
      "34 numbers [109.10825705528259, 34.06287097930908, 29.751811027526855, 30.660012006759644]\n",
      "speedup [1, 3.057451236804196, 3.6169830090692883, 3.5152688472090614]\n"
     ]
    }
   ],
   "source": [
    "#Use multidimensional array to split the running time of group numbers per processor\n",
    "a = np.array(time_ten_numbers)\n",
    "b = np.array(time_seventeen_numbers)\n",
    "c = np.array(time_thirty_four_numbers)\n",
    "times_array_per_proc = np.column_stack([a, b, c])\n",
    "\n",
    "#Create an empty dictionary to store list of the above multidimentional array with a key value\n",
    "proc_dictionary = {}\n",
    "\n",
    "#Create Key according to the number of processors\n",
    "for i in range(len(list_of_processors)):\n",
    "    for processor_array in times_array_per_proc:\n",
    "        proc_dictionary[\"{0}\".format(list_of_processors[i])]=times_array_per_proc[i]\n",
    "\n",
    "#Iniciate speedup in the dictionary\n",
    "numbers_dictionary.update( {'speedup' : [1]} )\n",
    "proc_dictionary.update( {'speedup' : []} )\n",
    "first_sum = -1\n",
    "\n",
    "#Iterate through the dictionary, sum the running time of each processor and divide by \n",
    "#running time of processor 1 in order to get the speedup rate  for each processor\n",
    "for i in range(len(list_of_processors)):\n",
    "    current_sum = 0\n",
    "    for item in times_array_per_proc[i]:\n",
    "        current_sum += item\n",
    "    if first_sum != -1:\n",
    "        divison_calc = first_sum / current_sum\n",
    "        proc_dictionary['speedup'].append(divison_calc)\n",
    "        numbers_dictionary['speedup'].append(divison_calc)\n",
    "    if first_sum == -1:\n",
    "        first_sum = current_sum\n"
   ]
  },
  {
   "cell_type": "markdown",
   "metadata": {},
   "source": [
    "# Set data to plot in the graph\n"
   ]
  },
  {
   "cell_type": "code",
   "execution_count": 15,
   "metadata": {},
   "outputs": [],
   "source": [
    "# Before plotting the bar graph remove speedup item from dictionary\n",
    "def removekey(d, key):\n",
    "    r = dict(d)\n",
    "    del r[key]\n",
    "    return r\n",
    "numbers_dictionary_to_plot = removekey(numbers_dictionary, 'speedup')\n",
    "\n",
    "\n",
    "# #Before plotting the bar graph remove speedup item from dictionary\n",
    "# numbers_dictionary_to_plot = del speedup[\"numbers_dictionary\"]"
   ]
  },
  {
   "cell_type": "markdown",
   "metadata": {},
   "source": [
    "# Plot the graph"
   ]
  },
  {
   "cell_type": "code",
   "execution_count": 16,
   "metadata": {
    "scrolled": true
   },
   "outputs": [
    {
     "data": {
      "image/png": "[encoded data removed]",
      "text/plain": [
       "<Figure size 432x288 with 2 Axes>"
      ]
     },
     "metadata": {
      "needs_background": "light"
     },
     "output_type": "display_data"
    }
   ],
   "source": [
    "\n",
    "# set width of bar\n",
    "width = .35 \n",
    "\n",
    "# Read the data to plot bar and line graphs\n",
    "m1_t = pd.DataFrame(numbers_dictionary)\n",
    "\n",
    "# Make the plot for processors and speed up\n",
    "m1_t[numbers_dictionary_to_plot].plot(kind='bar', width = width)\n",
    "m1_t['speedup'].plot(secondary_y=True)\n",
    "\n",
    "#Set label and x axes limit\n",
    "ax = plt.gca()\n",
    "plt.xlim([-width, len(m1_t['speedup'])-width])\n",
    "ax.set_xticklabels((list_of_processors))\n",
    "\n",
    "plt.show()"
   ]
  },
  {
   "cell_type": "markdown",
   "metadata": {},
   "source": [
    "# Multiprocessing using Pools - PART 2"
   ]
  },
  {
   "cell_type": "markdown",
   "metadata": {},
   "source": [
    "\n",
    "### The naive function for checking primes was edited so it divides the ranges of numbers to be checked between the number of processors. The function can be found in the python file functions_project_1. The Project Report, contains the explanaition."
   ]
  },
  {
   "cell_type": "markdown",
   "metadata": {},
   "source": [
    "## Dividing the ranges between the number of processors and calling the pool_process function"
   ]
  },
  {
   "cell_type": "code",
   "execution_count": 3,
   "metadata": {},
   "outputs": [
    {
     "name": "stdout",
     "output_type": "stream",
     "text": [
      "2803375971 is not a prime number\n",
      "3 times 934458657 is 2803375971\n",
      "Time: 0\n",
      "Task <ForkProcess(ForkPoolWorker-1, started daemon)> 2803375971 False\n",
      "Results [False]\n",
      "0.11644697189331055\n",
      "2803375971 is not a prime number\n",
      "3 times 934458657 is 2803375971\n",
      "Time: 0\n",
      "Task <ForkProcess(ForkPoolWorker-2, started daemon)> 2803375971 False\n",
      "2803375971 is not a prime number\n",
      "934458657 times 3 is 2803375971\n",
      "Time: 22\n",
      "Task <ForkProcess(ForkPoolWorker-3, started daemon)> 2803375971 False\n",
      "2803375971 prime number not confirmed\n",
      "Time: 84.53212809562683\n",
      "Task <ForkProcess(ForkPoolWorker-5, started daemon)> 2803375971 True\n",
      "2803375971 prime number not confirmed\n",
      "Time: 84.78445100784302\n",
      "Task <ForkProcess(ForkPoolWorker-4, started daemon)> 2803375971 True\n",
      "Results [False, False, True, True]\n",
      "84.8643057346344\n",
      "2803375971 is not a prime number\n",
      "2803375971 is not a prime number\n",
      "2803375971 is not a prime number\n",
      "3 times 934458657 is 2803375971\n",
      "934458657 times 3 is 2803375971\n",
      "311486219 times 9 is 2803375971\n",
      "Time: 0\n",
      "Time: 0\n",
      "Time: 0\n",
      "Task <ForkProcess(ForkPoolWorker-9, started daemon)> 2803375971 False\n",
      "Task <ForkProcess(ForkPoolWorker-6, started daemon)> 2803375971 False\n",
      "Task <ForkProcess(ForkPoolWorker-7, started daemon)> 2803375971 False\n",
      "2803375971 prime number not confirmed\n",
      "Time: 40.63741183280945\n",
      "Task <ForkProcess(ForkPoolWorker-8, started daemon)> 2803375971 True\n",
      "2803375971 prime number not confirmed\n",
      "Time: 50.39634609222412\n",
      "Task <ForkProcess(ForkPoolWorker-14, started daemon)> 2803375971 True\n",
      "2803375971 prime number not confirmed\n",
      "Time: 50.45854210853577\n",
      "Task <ForkProcess(ForkPoolWorker-11, started daemon)> 2803375971 True\n",
      "2803375971 prime number not confirmed\n",
      "Time: 50.47202801704407\n",
      "Task <ForkProcess(ForkPoolWorker-10, started daemon)> 2803375971 True\n",
      "2803375971 prime number not confirmed\n",
      "Time: 50.52631092071533\n",
      "Task <ForkProcess(ForkPoolWorker-12, started daemon)> 2803375971 True\n",
      "2803375971 prime number not confirmed\n",
      "Time: 50.6708550453186\n",
      "Task <ForkProcess(ForkPoolWorker-13, started daemon)> 2803375971 True\n",
      "Results [False, False, True, False, True, True, True, True, True]\n",
      "50.735795974731445\n",
      "2803375971 is not a prime number\n",
      "3 times 934458657 is 2803375971\n",
      "Time: 0\n",
      "Task <ForkProcess(ForkPoolWorker-15, started daemon)> 2803375971 False\n",
      "2803375971 is not a prime number\n",
      "254852361 times 11 is 2803375971\n",
      "Time: 10\n",
      "Task <ForkProcess(ForkPoolWorker-16, started daemon)> 2803375971 False\n",
      "2803375971 is not a prime number\n",
      "934458657 times 3 is 2803375971\n",
      "Time: 18\n",
      "Task <ForkProcess(ForkPoolWorker-19, started daemon)> 2803375971 False\n",
      "2803375971 prime number not confirmed\n",
      "Time: 51.62443494796753\n",
      "Task <ForkProcess(ForkPoolWorker-17, started daemon)> 2803375971 True\n",
      "2803375971 prime number not confirmed\n",
      "Time: 51.865375995635986\n",
      "Task <ForkProcess(ForkPoolWorker-18, started daemon)> 2803375971 True\n",
      "2803375971 prime number not confirmed\n",
      "Time: 65.25480127334595\n",
      "Task <ForkProcess(ForkPoolWorker-24, started daemon)> 2803375971 True\n",
      "2803375971 prime number not confirmed\n",
      "Time: 65.33140420913696\n",
      "2803375971 prime number not confirmed\n",
      "Task <ForkProcess(ForkPoolWorker-23, started daemon)> 2803375971 True\n",
      "Time: 65.33662819862366\n",
      "2803375971 prime number not confirmed\n",
      "Task <ForkProcess(ForkPoolWorker-22, started daemon)> 2803375971 True\n",
      "Time: 65.34094166755676\n",
      "Task <ForkProcess(ForkPoolWorker-20, started daemon)> 2803375971 True\n",
      "2803375971 prime number not confirmed\n",
      "Time: 65.3668782711029\n",
      "Task <ForkProcess(ForkPoolWorker-21, started daemon)> 2803375971 True\n",
      "2803375971 prime number not confirmed\n",
      "Time: 65.39310097694397\n",
      "Task <ForkProcess(ForkPoolWorker-27, started daemon)> 2803375971 True\n",
      "2803375971 prime number not confirmed\n",
      "Time: 65.54954695701599\n",
      "Task <ForkProcess(ForkPoolWorker-25, started daemon)> 2803375971 True\n",
      "2803375971 prime number not confirmed\n",
      "Time: 65.61623096466064\n",
      "Task <ForkProcess(ForkPoolWorker-26, started daemon)> 2803375971 True\n",
      "Results [False, False, True, True, False, True, True, True, True, True, True, True, True]\n",
      "65.69180631637573\n"
     ]
    }
   ],
   "source": [
    "list_of_proc = [1,4,9,13]\n",
    "prime_candidate_number = 7634568731\n",
    "non_prime_candidate_number = 2803375971\n",
    "candidate_number_to_run = non_prime_candidate_number\n",
    "\n",
    "# Create empty an list to store the running times for each processor\n",
    "list_processors_time = []\n",
    "for proc in list_of_proc:\n",
    "    \n",
    "    # workers is the number of processors\n",
    "    workers = proc\n",
    "    \n",
    "    # Create empty an list to store the lower ranges and upper ranges for each processor to run check_prime\n",
    "    list_of_lower_ranges = []\n",
    "    list_of_upper_ranges = []\n",
    "    next_lower = 2\n",
    "    \n",
    "    # Create a range for each processor\n",
    "    for i in range(1, workers+1):\n",
    "        list_of_lower_ranges.append(next_lower)\n",
    "        next_upper = round(candidate_number_to_run * (i/workers))\n",
    "        list_of_upper_ranges.append(next_upper)\n",
    "        next_lower = next_upper\n",
    "\n",
    "    # Create dictionary with the number to be checked, lower ranges and upper ranges\n",
    "    list_of_dicts = []\n",
    "\n",
    "    for i in range(workers):\n",
    "        thisdict = {}\n",
    "        thisdict[\"number\"] = candidate_number_to_run\n",
    "        thisdict[\"lower\"] = list_of_lower_ranges[i]\n",
    "        thisdict[\"upper\"] = list_of_upper_ranges[i]\n",
    "        list_of_dicts.append(thisdict)\n",
    "    \n",
    "    # Each processor runs a range\n",
    "    prime_candidate = list_of_dicts\n",
    "    time_per_processor = pool_process(check_prime_multi, prime_candidate, proc)\n",
    "    list_processors_time.append(time_per_processor)"
   ]
  },
  {
   "cell_type": "markdown",
   "metadata": {},
   "source": [
    "# Set data to plot in the graph"
   ]
  },
  {
   "cell_type": "code",
   "execution_count": 4,
   "metadata": {},
   "outputs": [],
   "source": [
    "# Create list of processors' times that will be plotted\n",
    "list_processors_time_to_plot = []\n",
    "for i in range(len(list_processors_time)):\n",
    "    if i != 0:\n",
    "        list_processors_time_to_plot.append(list_processors_time[i])"
   ]
  },
  {
   "cell_type": "code",
   "execution_count": 5,
   "metadata": {},
   "outputs": [
    {
     "name": "stdout",
     "output_type": "stream",
     "text": [
      "['1 Proc', '4 Proc', '9 Proc', '13 Proc']\n",
      "['4 Proc', '9 Proc', '13 Proc']\n"
     ]
    }
   ],
   "source": [
    "# Create list of processors\n",
    "list_of_processors = []\n",
    "for processor in list_of_proc:\n",
    "    processor_number = str(processor) + \" Proc\"\n",
    "    list_of_processors.append(processor_number)\n",
    "\n",
    "# Create list of processors to plot, excluding the list for 1 processor, which will not be plotted, it will only be\n",
    "# used to calculate the speedup\n",
    "list_of_processors_to_plot = []\n",
    "for i in range(len(list_of_processors)):\n",
    "    if i != 0:\n",
    "        list_of_processors_to_plot.append(list_of_processors[i])"
   ]
  },
  {
   "cell_type": "markdown",
   "metadata": {},
   "source": [
    "# Calculate Speedup"
   ]
  },
  {
   "cell_type": "code",
   "execution_count": 6,
   "metadata": {},
   "outputs": [],
   "source": [
    "#Use multidimensional array to split the running time of group numbers per processor\n",
    "a = np.array(list_processors_time)\n",
    "\n",
    "times_array_per_proc = np.column_stack([a])\n",
    "\n",
    "# Create a dictionary with the run times for processors to be plotted and speedup\n",
    "proc_dictionary = {}\n",
    "proc_dictionary.update( {'Times' : list_processors_time_to_plot} )\n",
    "proc_dictionary.update( {'speedup' : []} )\n",
    "\n",
    "first_sum = -1\n",
    "for i in range(len(list_of_processors)):\n",
    "    current_sum = 0\n",
    "    for item in times_array_per_proc[i]:\n",
    "        current_sum += item\n",
    "    if first_sum != -1:\n",
    "        divison_calc = first_sum / current_sum\n",
    "        proc_dictionary['speedup'].append(divison_calc)\n",
    "    if first_sum == -1:\n",
    "        first_sum = current_sum"
   ]
  },
  {
   "cell_type": "markdown",
   "metadata": {},
   "source": [
    "# Plot the graph (prime number)"
   ]
  },
  {
   "cell_type": "code",
   "execution_count": 7,
   "metadata": {},
   "outputs": [
    {
     "data": {
      "image/png": "[encoded data removed]",
      "text/plain": [
       "<Figure size 432x288 with 2 Axes>"
      ]
     },
     "metadata": {
      "needs_background": "light"
     },
     "output_type": "display_data"
    }
   ],
   "source": [
    "# Plotting results\n",
    "objects = list_of_processors_to_plot\n",
    "y_pos = np.arange(len(objects))\n",
    "time_processors = list_processors_time_to_plot\n",
    "\n",
    "plt.bar(y_pos, time_processors, alpha=0.5)\n",
    "plt.xticks(y_pos, objects)\n",
    "\n",
    "m1_t = pd.DataFrame(proc_dictionary)\n",
    "m1_t['speedup'].plot(secondary_y=True)\n",
    "\n",
    "\n",
    "plt.show()"
   ]
  },
  {
   "cell_type": "markdown",
   "metadata": {},
   "source": [
    "# Plot the graph (non-prime number)"
   ]
  },
  {
   "cell_type": "code",
   "execution_count": 7,
   "metadata": {},
   "outputs": [
    {
     "data": {
      "image/png": "[encoded data removed]",
      "text/plain": [
       "<Figure size 432x288 with 2 Axes>"
      ]
     },
     "metadata": {
      "needs_background": "light"
     },
     "output_type": "display_data"
    }
   ],
   "source": [
    "# Plotting results\n",
    "objects = list_of_processors_to_plot\n",
    "y_pos = np.arange(len(objects))\n",
    "time_processors = list_processors_time_to_plot\n",
    "\n",
    "plt.bar(y_pos, time_processors, alpha=0.5)\n",
    "plt.xticks(y_pos, objects)\n",
    "\n",
    "m1_t = pd.DataFrame(proc_dictionary)\n",
    "m1_t['speedup'].plot(secondary_y=True)\n",
    "\n",
    "\n",
    "plt.show()"
   ]
  },
  {
   "cell_type": "markdown",
   "metadata": {},
   "source": [
    "# Run the check_prime function without the pool_process so as to compare results"
   ]
  },
  {
   "cell_type": "code",
   "execution_count": 8,
   "metadata": {},
   "outputs": [
    {
     "name": "stdout",
     "output_type": "stream",
     "text": [
      "2803375971 is not a prime number\n",
      "3 times 934458657 is 2803375971\n",
      "Time: 0\n"
     ]
    }
   ],
   "source": [
    "# Run the check_prime function without the pool_process so as to compare results\n",
    "tp1 = perf_counter() \n",
    "check_prime(candidate_number_to_run)\n",
    "tp2 = perf_counter() \n",
    "overall_time_no_pool = tp2-tp1"
   ]
  },
  {
   "cell_type": "code",
   "execution_count": 9,
   "metadata": {},
   "outputs": [
    {
     "name": "stdout",
     "output_type": "stream",
     "text": [
      "[0.11644697189331055, 0.0003762990000097943, 50.735795974731445]\n"
     ]
    }
   ],
   "source": [
    "# Create list with non_prime run times - not using pool_process and using best case pool_process\n",
    "non_prime_times = []\n",
    "non_prime_times.append(list_processors_time[0])\n",
    "non_prime_times.append(overall_time_no_pool)\n",
    "non_prime_times.append(list_processors_time[len(list_processors_time)-2])"
   ]
  },
  {
   "cell_type": "code",
   "execution_count": 10,
   "metadata": {},
   "outputs": [
    {
     "name": "stdout",
     "output_type": "stream",
     "text": [
      "[0.0003762990000097943, 50.735795974731445]\n"
     ]
    }
   ],
   "source": [
    "# removing first item on the list to plot only run times for check_prime and pool_process\n",
    "non_prime_times_to_plot = []\n",
    "for i in range(len(non_prime_times)):\n",
    "    if i != 0:\n",
    "        non_prime_times_to_plot.append(non_prime_times[i])"
   ]
  },
  {
   "cell_type": "code",
   "execution_count": 11,
   "metadata": {},
   "outputs": [
    {
     "name": "stdout",
     "output_type": "stream",
     "text": [
      "Times [0.11644697189331055, 0.0003762990000097943, 50.735795974731445]\n",
      "speedup [1, 0.0013721548875617183, 0.0022951639893716465]\n"
     ]
    }
   ],
   "source": [
    "# Create a dictionary with the run times for processors to be plotted and speedup\n",
    "non_prime_dictionary = {}\n",
    "non_prime_dictionary.update( {'Times' : non_prime_times} )\n",
    "non_prime_dictionary.update( {'speedup' : [1]} )\n",
    "\n",
    "first_sum = -1\n",
    "for i in range(len(non_prime_times)):\n",
    "    current_sum = 0\n",
    "    for item in times_array_per_proc[i]:\n",
    "        current_sum += item\n",
    "    if first_sum != -1:\n",
    "        divison_calc = first_sum / current_sum\n",
    "        non_prime_dictionary['speedup'].append(divison_calc)\n",
    "    if first_sum == -1:\n",
    "        first_sum = current_sum"
   ]
  },
  {
   "cell_type": "code",
   "execution_count": 12,
   "metadata": {},
   "outputs": [
    {
     "name": "stdout",
     "output_type": "stream",
     "text": [
      "{'Times': [0.0003762990000097943, 50.735795974731445], 'speedup': [0.0013721548875617183, 0.0022951639893716465]}\n"
     ]
    }
   ],
   "source": [
    "# Before plotting the bar graph remove first item from all dictionary entries as we are not plotting it and only\n",
    "# using it to calculate speedup\n",
    "non_prime_dictionary_to_plot = {k: non_prime_dictionary[k][1:] for k in non_prime_dictionary}"
   ]
  },
  {
   "cell_type": "markdown",
   "metadata": {},
   "source": [
    "## Plot the graph (prime number)"
   ]
  },
  {
   "cell_type": "code",
   "execution_count": 15,
   "metadata": {},
   "outputs": [
    {
     "data": {
      "image/png": "[encoded data removed]",
      "text/plain": [
       "<Figure size 432x288 with 2 Axes>"
      ]
     },
     "metadata": {
      "needs_background": "light"
     },
     "output_type": "display_data"
    }
   ],
   "source": [
    "# Plotting results\n",
    "objects = ['prime_check', 'pool_process']\n",
    "y_pos = np.arange(len(objects))\n",
    "time = non_prime_times_to_plot\n",
    "\n",
    "plt.bar(y_pos, time, alpha=0.5)\n",
    "plt.xticks(y_pos, objects)\n",
    "\n",
    "m1_t = pd.DataFrame(non_prime_dictionary_to_plot)\n",
    "m1_t['speedup'].plot(secondary_y=True)\n",
    "\n",
    "\n",
    "plt.show()"
   ]
  },
  {
   "cell_type": "markdown",
   "metadata": {},
   "source": [
    "## Plot the graph (non-prime number)"
   ]
  },
  {
   "cell_type": "code",
   "execution_count": 13,
   "metadata": {
    "scrolled": false
   },
   "outputs": [
    {
     "data": {
      "image/png": "[encoded data removed]",
      "text/plain": [
       "<Figure size 432x288 with 2 Axes>"
      ]
     },
     "metadata": {
      "needs_background": "light"
     },
     "output_type": "display_data"
    }
   ],
   "source": [
    "# Plotting results\n",
    "objects = ['prime_check', 'pool_process']\n",
    "y_pos = np.arange(len(objects))\n",
    "time = non_prime_times_to_plot\n",
    "\n",
    "plt.bar(y_pos, time, alpha=0.5)\n",
    "plt.xticks(y_pos, objects)\n",
    "\n",
    "m1_t = pd.DataFrame(non_prime_dictionary_to_plot)\n",
    "m1_t['speedup'].plot(secondary_y=True)\n",
    "\n",
    "\n",
    "plt.show()"
   ]
  },
  {
   "cell_type": "markdown",
   "metadata": {},
   "source": [
    "Bar and line charts code taken from:\n",
    "<br>\n",
    "https://stackoverflow.com/questions/38810009/matplotlib-plot-bar-and-line-charts-together"
   ]
  }
 ],
 "metadata": {
  "kernelspec": {
   "display_name": "Python 3",
   "language": "python",
   "name": "python3"
  },
  "language_info": {
   "codemirror_mode": {
    "name": "ipython",
    "version": 3
   },
   "file_extension": ".py",
   "mimetype": "text/x-python",
   "name": "python",
   "nbconvert_exporter": "python",
   "pygments_lexer": "ipython3",
   "version": "3.7.4"
  }
 },
 "nbformat": 4,
 "nbformat_minor": 1
}
